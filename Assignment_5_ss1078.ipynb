{
 "cells": [
  {
   "cell_type": "markdown",
   "metadata": {},
   "source": [
    "# Assignment 5 - Reinforcement Learning\n",
    "\n",
    "## Srishti Saha\n",
    "Netid:  ss1078"
   ]
  },
  {
   "cell_type": "markdown",
   "metadata": {},
   "source": [
    "### Blackjack\n",
    "\n",
    "Your goal is to develop a reinforcement learning technique to learn the optimal policy for winning at blackjack. Here, we're going to modify the rules from traditional blackjack a bit in a way that corresponds to the game presented in Sutton and Barto's *Reinforcement Learning: An Introduction* (Chapter 5, example 5.1). A full implementation of the game is provided and usage examples are detailed in the class header below.\n",
    "\n",
    "The rules of this modified version of the game of blackjack are as follows:\n",
    "\n",
    "- Blackjack is a card game where the goal is to obtain cards that sum to as near as possible to 21 without going over.  We're playing against a fixed (autonomous) dealer.\n",
    "- Face cards (Jack, Queen, King) have point value 10. Aces can either count as 11 or 1, and we're refer to it as 'usable' at 11 (indicating that it could be used as a '1' if need be. This game is placed with a deck of cards sampled with replacement.\n",
    "- The game starts with each (player and dealer) having one face up and one face down card.\n",
    "- The player can request additional cards (hit, or action '1') until they decide to stop (stay, action '0') or exceed 21 (bust, the game ends and player loses).\n",
    "- After the player stays, the dealer reveals their facedown card, and draws until their sum is 17 or greater. If the dealer goes bust the player wins. If neither player nor dealer busts, the outcome (win, lose, draw) is decided by whose sum is closer to 21.  The reward for winning is +1, drawing is 0, and losing is -1.\n",
    "\n",
    "\n",
    "\n",
    "You will accomplish three things:\n",
    "1. Try your hand at this game of blackjack and see what your human reinforcement learning system is able to achieve\n",
    "2. Evaluate a simple policy using Monte Carlo policy evaluation\n",
    "3. Determine an optimal policy using Monte Carlo control\n",
    "\n",
    "*This problem is adapted from David Silver's [excellent series on Reinforcement Learning](http://www0.cs.ucl.ac.uk/staff/d.silver/web/Teaching.html) at University College London*"
   ]
  },
  {
   "cell_type": "markdown",
   "metadata": {},
   "source": [
    "## 1\n",
    "\n",
    "### [10 points] Human reinforcement learning \n",
    "\n",
    "Using the code detailed below, play 50 hands of blackjack, and record your overall average reward. This will help you get accustomed with how the game works, the data structures involved with representing states, and what strategies are most effective."
   ]
  },
  {
   "cell_type": "code",
   "execution_count": 1,
   "metadata": {},
   "outputs": [],
   "source": [
    "import numpy as np\n",
    "\n",
    "class Blackjack():\n",
    "    \"\"\"Simple blackjack environment adapted from OpenAI Gym:\n",
    "        https://github.com/openai/gym/blob/master/gym/envs/toy_text/blackjack.py\n",
    "    \n",
    "    Blackjack is a card game where the goal is to obtain cards that sum to as\n",
    "    near as possible to 21 without going over.  They're playing against a fixed\n",
    "    dealer.\n",
    "    \n",
    "    Face cards (Jack, Queen, King) have point value 10.\n",
    "    Aces can either count as 11 or 1, and it's called 'usable' at 11.\n",
    "    This game is placed with a deck sampled with replacement.\n",
    "    \n",
    "    The game starts with each (player and dealer) having one face up and one\n",
    "    face down card.\n",
    "    \n",
    "    The player can request additional cards (hit = 1) until they decide to stop\n",
    "    (stay = 0) or exceed 21 (bust).\n",
    "    \n",
    "    After the player stays, the dealer reveals their facedown card, and draws\n",
    "    until their sum is 17 or greater.  If the dealer goes bust the player wins.\n",
    "    If neither player nor dealer busts, the outcome (win, lose, draw) is\n",
    "    decided by whose sum is closer to 21.  The reward for winning is +1,\n",
    "    drawing is 0, and losing is -1.\n",
    "    \n",
    "    The observation is a 3-tuple of: the players current sum,\n",
    "    the dealer's one showing card (1-10 where 1 is ace),\n",
    "    and whether or not the player holds a usable ace (0 or 1).\n",
    "    \n",
    "    This environment corresponds to the version of the blackjack problem\n",
    "    described in Example 5.1 in Reinforcement Learning: An Introduction\n",
    "    by Sutton and Barto (1998).\n",
    "    \n",
    "    http://incompleteideas.net/sutton/book/the-book.html\n",
    "    \n",
    "    Usage: \n",
    "        Initialize the class:\n",
    "            game = Blackjack()\n",
    "        \n",
    "        Deal the cards:\n",
    "            game.deal()\n",
    "            \n",
    "             (14, 3, False)\n",
    "             \n",
    "            This is the agent's observation of the state of the game:\n",
    "            The first value is the sum of cards in your hand (14 in this case)\n",
    "            The second is the visible card in the dealer's hand (3 in this case)\n",
    "            The Boolean is a flag (False in this case) to indicate whether or \n",
    "                not you have a usable Ace\n",
    "            (Note: if you have a usable ace, the sum will treat the ace as a \n",
    "                value of '11' - this is the case if this Boolean flag is \"true\")\n",
    "            \n",
    "        Take an action: Hit (1) or stay (0)\n",
    "        \n",
    "            Take a hit: game.step(1)\n",
    "            To Stay:    game.step(0)\n",
    "            \n",
    "        The output summarizes the game status:\n",
    "            \n",
    "            ((15, 3, False), 0, False)\n",
    "            \n",
    "            The first tuple (15, 3, False), is the agent's observation of the\n",
    "            state of the game as described above.\n",
    "            The second value (0) indicates the rewards\n",
    "            The third value (False) indicates whether the game is finished\n",
    "    \"\"\"\n",
    "    \n",
    "    def __init__(self):\n",
    "        # 1 = Ace, 2-10 = Number cards, Jack/Queen/King = 10\n",
    "        self.deck   = [1, 2, 3, 4, 5, 6, 7, 8, 9, 10, 10, 10, 10]\n",
    "        self.dealer = []\n",
    "        self.player = []\n",
    "        self.deal()\n",
    "\n",
    "    def step(self, action):\n",
    "        if action == 1:  # hit: add a card to players hand and return\n",
    "            self.player.append(self.draw_card())\n",
    "            if self.is_bust(self.player):\n",
    "                done = True\n",
    "                reward = -1\n",
    "            else:\n",
    "                done = False\n",
    "                reward = 0\n",
    "        else:  # stay: play out the dealers hand, and score\n",
    "            done = True\n",
    "            while self.sum_hand(self.dealer) < 17:\n",
    "                self.dealer.append(self.draw_card())\n",
    "            reward = self.cmp(self.score(self.player), self.score(self.dealer))\n",
    "        return self._get_obs(), reward, done\n",
    "\n",
    "    def _get_obs(self):\n",
    "        return (self.sum_hand(self.player), self.dealer[0], self.usable_ace(self.player))\n",
    "\n",
    "    def deal(self):\n",
    "        self.dealer = self.draw_hand()\n",
    "        self.player = self.draw_hand()\n",
    "        return self._get_obs()\n",
    "    \n",
    "    #------------------------------------------\n",
    "    # Other helper functions\n",
    "    #------------------------------------------\n",
    "    def cmp(self, a, b):\n",
    "        return float(a > b) - float(a < b)\n",
    "    \n",
    "    def draw_card(self):\n",
    "        return int(np.random.choice(self.deck))\n",
    "    \n",
    "    def draw_hand(self):\n",
    "        return [self.draw_card(), self.draw_card()]\n",
    "    \n",
    "    def usable_ace(self,hand):  # Does this hand have a usable ace?\n",
    "        return 1 in hand and sum(hand) + 10 <= 21\n",
    "    \n",
    "    def sum_hand(self,hand):  # Return current hand total\n",
    "        if self.usable_ace(hand):\n",
    "            return sum(hand) + 10\n",
    "        return sum(hand)\n",
    "    \n",
    "    def is_bust(self,hand):  # Is this hand a bust?\n",
    "        return self.sum_hand(hand) > 21\n",
    "    \n",
    "    def score(self,hand):  # What is the score of this hand (0 if bust)\n",
    "        return 0 if self.is_bust(hand) else self.sum_hand(hand)"
   ]
  },
  {
   "cell_type": "markdown",
   "metadata": {},
   "source": [
    "Here's an example of how it works to get you started:"
   ]
  },
  {
   "cell_type": "code",
   "execution_count": 2,
   "metadata": {},
   "outputs": [
    {
     "name": "stdout",
     "output_type": "stream",
     "text": [
      "(12, 3, False)\n",
      "((15, 3, False), 0, False)\n",
      "((15, 3, False), -1.0, True)\n",
      "(20, 6, False)\n"
     ]
    }
   ],
   "source": [
    "import numpy as np\n",
    "\n",
    "# Initialize the class:\n",
    "game = Blackjack()\n",
    "\n",
    "# Deal the cards:\n",
    "s0 = game.deal()\n",
    "print(s0)\n",
    "\n",
    "# Take an action: Hit = 1 or stay = 0. Here's a hit:\n",
    "s1 = game.step(1)\n",
    "print(s1)\n",
    "\n",
    "# If you wanted to stay:\n",
    "s2 = game.step(0)\n",
    "print(s2)\n",
    "# When it's gameover, just redeal:\n",
    "s0 = game.deal()\n",
    "print(s0)"
   ]
  },
  {
   "cell_type": "markdown",
   "metadata": {},
   "source": [
    "**ANSWER**"
   ]
  },
  {
   "cell_type": "code",
   "execution_count": 15,
   "metadata": {},
   "outputs": [
    {
     "name": "stdout",
     "output_type": "stream",
     "text": [
      "Player Score: 21 (Usable Ace: True), Dealer Score: 10\n",
      "Action: Stick\n",
      "Player Score: 21 (Usable Ace: True), Dealer Score: 10\n",
      "Game end. Reward: 1.0\n",
      "\n",
      "Player Score: 20 (Usable Ace: False), Dealer Score: 5\n",
      "Action: Stick\n",
      "Player Score: 20 (Usable Ace: False), Dealer Score: 5\n",
      "Game end. Reward: 1.0\n",
      "\n",
      "Player Score: 17 (Usable Ace: False), Dealer Score: 3\n",
      "Action: Stick\n",
      "Player Score: 17 (Usable Ace: False), Dealer Score: 3\n",
      "Game end. Reward: 1.0\n",
      "\n",
      "Player Score: 12 (Usable Ace: False), Dealer Score: 1\n",
      "Action: Hit\n",
      "Player Score: 16 (Usable Ace: False), Dealer Score: 1\n",
      "Action: Stick\n",
      "Player Score: 16 (Usable Ace: False), Dealer Score: 1\n",
      "Game end. Reward: -1.0\n",
      "\n",
      "Player Score: 20 (Usable Ace: False), Dealer Score: 6\n",
      "Action: Stick\n",
      "Player Score: 20 (Usable Ace: False), Dealer Score: 6\n",
      "Game end. Reward: 1.0\n",
      "\n",
      "Player Score: 18 (Usable Ace: False), Dealer Score: 5\n",
      "Action: Stick\n",
      "Player Score: 18 (Usable Ace: False), Dealer Score: 5\n",
      "Game end. Reward: -1.0\n",
      "\n",
      "Player Score: 15 (Usable Ace: False), Dealer Score: 6\n",
      "Action: Stick\n",
      "Player Score: 15 (Usable Ace: False), Dealer Score: 6\n",
      "Game end. Reward: -1.0\n",
      "\n",
      "Player Score: 18 (Usable Ace: False), Dealer Score: 9\n",
      "Action: Stick\n",
      "Player Score: 18 (Usable Ace: False), Dealer Score: 9\n",
      "Game end. Reward: 1.0\n",
      "\n",
      "Player Score: 12 (Usable Ace: False), Dealer Score: 8\n",
      "Action: Hit\n",
      "Player Score: 17 (Usable Ace: False), Dealer Score: 8\n",
      "Action: Stick\n",
      "Player Score: 17 (Usable Ace: False), Dealer Score: 8\n",
      "Game end. Reward: -1.0\n",
      "\n",
      "Player Score: 15 (Usable Ace: False), Dealer Score: 1\n",
      "Action: Stick\n",
      "Player Score: 15 (Usable Ace: False), Dealer Score: 1\n",
      "Game end. Reward: -1.0\n",
      "\n",
      "Player Score: 15 (Usable Ace: False), Dealer Score: 1\n",
      "Action: Stick\n",
      "Player Score: 15 (Usable Ace: False), Dealer Score: 1\n",
      "Game end. Reward: -1.0\n",
      "\n",
      "Player Score: 15 (Usable Ace: False), Dealer Score: 5\n",
      "Action: Stick\n",
      "Player Score: 15 (Usable Ace: False), Dealer Score: 5\n",
      "Game end. Reward: 1.0\n",
      "\n",
      "Player Score: 16 (Usable Ace: False), Dealer Score: 10\n",
      "Action: Stick\n",
      "Player Score: 16 (Usable Ace: False), Dealer Score: 10\n",
      "Game end. Reward: 1.0\n",
      "\n",
      "Player Score: 15 (Usable Ace: False), Dealer Score: 3\n",
      "Action: Stick\n",
      "Player Score: 15 (Usable Ace: False), Dealer Score: 3\n",
      "Game end. Reward: -1.0\n",
      "\n",
      "Player Score: 12 (Usable Ace: False), Dealer Score: 1\n",
      "Action: Hit\n",
      "Player Score: 22 (Usable Ace: False), Dealer Score: 1\n",
      "Game end. Reward: -1.0\n",
      "\n",
      "Player Score: 13 (Usable Ace: False), Dealer Score: 4\n",
      "Action: Hit\n",
      "Player Score: 15 (Usable Ace: False), Dealer Score: 4\n",
      "Action: Stick\n",
      "Player Score: 15 (Usable Ace: False), Dealer Score: 4\n",
      "Game end. Reward: -1.0\n",
      "\n",
      "Player Score: 9 (Usable Ace: False), Dealer Score: 10\n",
      "Action: Hit\n",
      "Player Score: 19 (Usable Ace: False), Dealer Score: 10\n",
      "Action: Stick\n",
      "Player Score: 19 (Usable Ace: False), Dealer Score: 10\n",
      "Game end. Reward: 1.0\n",
      "\n",
      "Player Score: 17 (Usable Ace: False), Dealer Score: 9\n",
      "Action: Stick\n",
      "Player Score: 17 (Usable Ace: False), Dealer Score: 9\n",
      "Game end. Reward: -1.0\n",
      "\n",
      "Player Score: 11 (Usable Ace: False), Dealer Score: 3\n",
      "Action: Hit\n",
      "Player Score: 16 (Usable Ace: False), Dealer Score: 3\n",
      "Action: Stick\n",
      "Player Score: 16 (Usable Ace: False), Dealer Score: 3\n",
      "Game end. Reward: 1.0\n",
      "\n",
      "Player Score: 6 (Usable Ace: False), Dealer Score: 8\n",
      "Action: Hit\n",
      "Player Score: 9 (Usable Ace: False), Dealer Score: 8\n",
      "Action: Hit\n",
      "Player Score: 18 (Usable Ace: False), Dealer Score: 8\n",
      "Action: Stick\n",
      "Player Score: 18 (Usable Ace: False), Dealer Score: 8\n",
      "Game end. Reward: 1.0\n",
      "\n",
      "Player Score: 18 (Usable Ace: False), Dealer Score: 5\n",
      "Action: Stick\n",
      "Player Score: 18 (Usable Ace: False), Dealer Score: 5\n",
      "Game end. Reward: 0.0\n",
      "\n",
      "Player Score: 16 (Usable Ace: False), Dealer Score: 2\n",
      "Action: Stick\n",
      "Player Score: 16 (Usable Ace: False), Dealer Score: 2\n",
      "Game end. Reward: -1.0\n",
      "\n",
      "Player Score: 17 (Usable Ace: True), Dealer Score: 9\n",
      "Action: Stick\n",
      "Player Score: 17 (Usable Ace: True), Dealer Score: 9\n",
      "Game end. Reward: -1.0\n",
      "\n",
      "Player Score: 18 (Usable Ace: False), Dealer Score: 3\n",
      "Action: Stick\n",
      "Player Score: 18 (Usable Ace: False), Dealer Score: 3\n",
      "Game end. Reward: 1.0\n",
      "\n",
      "Player Score: 17 (Usable Ace: False), Dealer Score: 7\n",
      "Action: Stick\n",
      "Player Score: 17 (Usable Ace: False), Dealer Score: 7\n",
      "Game end. Reward: 1.0\n",
      "\n",
      "Player Score: 12 (Usable Ace: False), Dealer Score: 8\n",
      "Action: Hit\n",
      "Player Score: 22 (Usable Ace: False), Dealer Score: 8\n",
      "Game end. Reward: -1.0\n",
      "\n",
      "Player Score: 19 (Usable Ace: True), Dealer Score: 1\n",
      "Action: Stick\n",
      "Player Score: 19 (Usable Ace: True), Dealer Score: 1\n",
      "Game end. Reward: 1.0\n",
      "\n",
      "Player Score: 8 (Usable Ace: False), Dealer Score: 9\n",
      "Action: Hit\n",
      "Player Score: 19 (Usable Ace: True), Dealer Score: 9\n",
      "Action: Stick\n",
      "Player Score: 19 (Usable Ace: True), Dealer Score: 9\n",
      "Game end. Reward: 1.0\n",
      "\n",
      "Player Score: 10 (Usable Ace: False), Dealer Score: 1\n",
      "Action: Hit\n",
      "Player Score: 20 (Usable Ace: False), Dealer Score: 1\n",
      "Action: Stick\n",
      "Player Score: 20 (Usable Ace: False), Dealer Score: 1\n",
      "Game end. Reward: 1.0\n",
      "\n",
      "Player Score: 16 (Usable Ace: False), Dealer Score: 8\n",
      "Action: Stick\n",
      "Player Score: 16 (Usable Ace: False), Dealer Score: 8\n",
      "Game end. Reward: -1.0\n",
      "\n",
      "Player Score: 5 (Usable Ace: False), Dealer Score: 10\n",
      "Action: Hit\n",
      "Player Score: 12 (Usable Ace: False), Dealer Score: 10\n",
      "Action: Hit\n",
      "Player Score: 20 (Usable Ace: False), Dealer Score: 10\n",
      "Action: Stick\n",
      "Player Score: 20 (Usable Ace: False), Dealer Score: 10\n",
      "Game end. Reward: 0.0\n",
      "\n",
      "Player Score: 18 (Usable Ace: False), Dealer Score: 10\n",
      "Action: Stick\n",
      "Player Score: 18 (Usable Ace: False), Dealer Score: 10\n",
      "Game end. Reward: 0.0\n",
      "\n",
      "Player Score: 15 (Usable Ace: False), Dealer Score: 1\n",
      "Action: Stick\n",
      "Player Score: 15 (Usable Ace: False), Dealer Score: 1\n",
      "Game end. Reward: -1.0\n",
      "\n",
      "Player Score: 13 (Usable Ace: False), Dealer Score: 7\n",
      "Action: Hit\n",
      "Player Score: 14 (Usable Ace: False), Dealer Score: 7\n",
      "Action: Hit\n",
      "Player Score: 24 (Usable Ace: False), Dealer Score: 7\n",
      "Game end. Reward: -1.0\n",
      "\n",
      "Player Score: 15 (Usable Ace: False), Dealer Score: 6\n",
      "Action: Stick\n",
      "Player Score: 15 (Usable Ace: False), Dealer Score: 6\n",
      "Game end. Reward: 1.0\n",
      "\n",
      "Player Score: 21 (Usable Ace: True), Dealer Score: 4\n",
      "Action: Stick\n",
      "Player Score: 21 (Usable Ace: True), Dealer Score: 4\n",
      "Game end. Reward: 1.0\n",
      "\n",
      "Player Score: 19 (Usable Ace: False), Dealer Score: 5\n",
      "Action: Stick\n",
      "Player Score: 19 (Usable Ace: False), Dealer Score: 5\n",
      "Game end. Reward: 1.0\n",
      "\n",
      "Player Score: 17 (Usable Ace: True), Dealer Score: 7\n",
      "Action: Stick\n",
      "Player Score: 17 (Usable Ace: True), Dealer Score: 7\n",
      "Game end. Reward: 0.0\n",
      "\n",
      "Player Score: 10 (Usable Ace: False), Dealer Score: 1\n",
      "Action: Hit\n",
      "Player Score: 12 (Usable Ace: False), Dealer Score: 1\n",
      "Action: Hit\n",
      "Player Score: 14 (Usable Ace: False), Dealer Score: 1\n",
      "Action: Hit\n",
      "Player Score: 24 (Usable Ace: False), Dealer Score: 1\n",
      "Game end. Reward: -1.0\n",
      "\n",
      "Player Score: 13 (Usable Ace: False), Dealer Score: 10\n",
      "Action: Hit\n",
      "Player Score: 23 (Usable Ace: False), Dealer Score: 10\n",
      "Game end. Reward: -1.0\n",
      "\n",
      "Player Score: 13 (Usable Ace: False), Dealer Score: 8\n",
      "Action: Hit\n",
      "Player Score: 19 (Usable Ace: False), Dealer Score: 8\n",
      "Action: Stick\n",
      "Player Score: 19 (Usable Ace: False), Dealer Score: 8\n",
      "Game end. Reward: 0.0\n",
      "\n",
      "Player Score: 9 (Usable Ace: False), Dealer Score: 3\n",
      "Action: Hit\n",
      "Player Score: 20 (Usable Ace: True), Dealer Score: 3\n",
      "Action: Stick\n",
      "Player Score: 20 (Usable Ace: True), Dealer Score: 3\n",
      "Game end. Reward: 1.0\n",
      "\n",
      "Player Score: 20 (Usable Ace: False), Dealer Score: 9\n",
      "Action: Stick\n",
      "Player Score: 20 (Usable Ace: False), Dealer Score: 9\n",
      "Game end. Reward: 1.0\n",
      "\n",
      "Player Score: 20 (Usable Ace: False), Dealer Score: 6\n",
      "Action: Stick\n",
      "Player Score: 20 (Usable Ace: False), Dealer Score: 6\n",
      "Game end. Reward: 1.0\n",
      "\n",
      "Player Score: 20 (Usable Ace: False), Dealer Score: 7\n",
      "Action: Stick\n",
      "Player Score: 20 (Usable Ace: False), Dealer Score: 7\n",
      "Game end. Reward: 1.0\n",
      "\n",
      "Player Score: 14 (Usable Ace: False), Dealer Score: 10\n",
      "Action: Hit\n",
      "Player Score: 24 (Usable Ace: False), Dealer Score: 10\n",
      "Game end. Reward: -1.0\n",
      "\n",
      "Player Score: 17 (Usable Ace: False), Dealer Score: 8\n",
      "Action: Stick\n",
      "Player Score: 17 (Usable Ace: False), Dealer Score: 8\n",
      "Game end. Reward: -1.0\n",
      "\n",
      "Player Score: 11 (Usable Ace: False), Dealer Score: 1\n",
      "Action: Hit\n",
      "Player Score: 15 (Usable Ace: False), Dealer Score: 1\n",
      "Action: Stick\n",
      "Player Score: 15 (Usable Ace: False), Dealer Score: 1\n",
      "Game end. Reward: -1.0\n",
      "\n",
      "Player Score: 19 (Usable Ace: False), Dealer Score: 2\n",
      "Action: Stick\n",
      "Player Score: 19 (Usable Ace: False), Dealer Score: 2\n",
      "Game end. Reward: 1.0\n",
      "\n",
      "Player Score: 12 (Usable Ace: False), Dealer Score: 10\n",
      "Action: Hit\n",
      "Player Score: 18 (Usable Ace: False), Dealer Score: 10\n",
      "Action: Stick\n",
      "Player Score: 18 (Usable Ace: False), Dealer Score: 10\n",
      "Game end. Reward: 1.0\n",
      "\n",
      "overall average reward after 50 hands:  0.06\n"
     ]
    }
   ],
   "source": [
    "blackjack = Blackjack()\n",
    "\n",
    "# Policy: \n",
    "def strategy(observation):\n",
    "    score, dealer_score, usable_ace = observation\n",
    "    return 0 if score >= 15 else 1\n",
    "\n",
    "rewards = []\n",
    "\n",
    "for i in range(50):\n",
    "    observation = blackjack.deal()\n",
    "    for t in range(100):\n",
    "        score, dealer_score, usable_ace = observation\n",
    "        print(\"Player Score: {} (Usable Ace: {}), Dealer Score: {}\".format(score, usable_ace, dealer_score))\n",
    "        action = strategy(observation)\n",
    "        print(\"Action: {}\".format( [\"Stick\", \"Hit\"][action]))\n",
    "        observation, reward, done = blackjack.step(action)\n",
    "        if done:\n",
    "            score, dealer_score, usable_ace = observation\n",
    "            print(\"Player Score: {} (Usable Ace: {}), Dealer Score: {}\".format(score, usable_ace, dealer_score))\n",
    "            print(\"Game end. Reward: {}\\n\".format(float(reward)))\n",
    "            rewards.append(reward)\n",
    "            break\n",
    "\n",
    "print('overall average reward after 50 hands: ', sum(rewards) / 50)"
   ]
  },
  {
   "cell_type": "markdown",
   "metadata": {},
   "source": [
    "My policy was to stop hitting (action=0) when the sum of cards is greater than or equal 15. This was chosen as the probability of getting busted is high.\n",
    "\n",
    "My overall average reward after 50 hands is **0.06**. "
   ]
  },
  {
   "cell_type": "markdown",
   "metadata": {},
   "source": [
    "## 2\n",
    "\n",
    "### [40 points] Perform Monte Carlo Policy Evaluation\n",
    "\n",
    "Thinking that you want to make your millions playing blackjack, you decide to test out a policy for playing this game. Your idea is an aggressive strategy: always hit unless the total of your cards adds up to 20 or 21, in which case you stay.\n",
    "\n",
    "**(a)** Use Monte Carlo policy evaluation to evaluate the expected returns from each state. Create plots for these similar to Sutton and Barto, Figure 5.1 where you plot the expected returns for each state. In this case create 2 plots:\n",
    "1. When you have a useable ace, plot the state space with the dealer's card on the x-axis, and the player's sum on the y-axis, and use the 'RdBu' matplotlib colormap and `imshow` to plot the value of each state under the policy described above. The domain of your x and y axes should include all possible states (2 to 21 for the player sum, and 1 to 10 for the dealer's card). Do this for for 10,000 episodes.\n",
    "2. Repeat (1) for the states without a usable ace.\n",
    "3. Repeat (1) for the case of 500,000 episodes.\n",
    "4. Relwat (2) for the case of 500,000 episodes.\n",
    "\n",
    "**(b)** Show a plot of the overall average reward per episode vs the number of episodes. For both the 10,000 episode case and the 500,000 episode case, record the overall average reward for this policy and report that value. "
   ]
  },
  {
   "cell_type": "markdown",
   "metadata": {},
   "source": [
    "**ANSWER**"
   ]
  },
  {
   "cell_type": "code",
   "execution_count": 6,
   "metadata": {},
   "outputs": [],
   "source": [
    "import numpy as np\n",
    "import matplotlib.pyplot as plt\n",
    "from math import floor\n",
    "from tqdm import trange"
   ]
  },
  {
   "cell_type": "markdown",
   "metadata": {},
   "source": [
    "**Part (a)**"
   ]
  },
  {
   "cell_type": "code",
   "execution_count": 7,
   "metadata": {},
   "outputs": [],
   "source": [
    "####Monte Carlo policy evaluation to evaluate the expected returns from each state\n",
    "\n",
    "def mc_policy_eval(n_episodes):\n",
    "    \n",
    "    \"\"\"\n",
    "    Strategy: always hit unless the total of your cards adds up to 20 or 21, in which case you stay.\n",
    "    \"\"\"  \n",
    "    # initialize usable deck\n",
    "    usable_data = np.zeros((20, 10, 2)) \n",
    "    # initialize non-usable deck\n",
    "    nonusable_data = np.zeros((20, 10, 2))  \n",
    "    \n",
    "    # initialize average reward per episode\n",
    "    avg_reward_pe = []   \n",
    "    def update_values(all_state):\n",
    "        total_r = 0\n",
    "        cum_value = 0\n",
    "        for state in all_state[::-1]:\n",
    "            (player, dealer, usable), value, end = state\n",
    "            cum_value = cum_value + value\n",
    "            if player <= 21:\n",
    "                player_ind = player - 2\n",
    "                dealer_ind = dealer - 1\n",
    "                if usable:\n",
    "                    usable_data[player_ind, dealer_ind][0] += cum_value\n",
    "                    usable_data[player_ind, dealer_ind][1] += 1\n",
    "                    pass\n",
    "                else:\n",
    "                    nonusable_data[player_ind, dealer_ind][0] += cum_value\n",
    "                    nonusable_data[player_ind, dealer_ind][1] += 1\n",
    "                    pass\n",
    "                pass\n",
    "            total_r = total_r + cum_value\n",
    "            pass\n",
    "        arpe=total_r/len(all_state)\n",
    "        avg_reward_pe.append(arpe)\n",
    "        pass\n",
    "\n",
    "    # call Blackjack class\n",
    "    blackjack = Blackjack()\n",
    "    for e in trange(n_episodes):\n",
    "        all_state_values = []\n",
    "        # deal afresh\n",
    "        s0 = blackjack.deal()\n",
    "        # update the results matrix by appending current value\n",
    "        all_state_values.append((s0, 0, False))\n",
    "        # check if sum of first two cards = 20 or 21\n",
    "        if np.isin(s0[0], [20, 21]):\n",
    "            si = blackjack.step(0)\n",
    "            all_state_values.append(si)\n",
    "            pass\n",
    "        else:\n",
    "            si = blackjack.step(1)\n",
    "            # print(si[-1])\n",
    "            all_state_values.append(si)\n",
    "\n",
    "            ## Policy: stick if the player score is >= 20, hit otherwise.\n",
    "            while si[0][0] < 20 and si[-1] == False:\n",
    "                si = blackjack.step(1)\n",
    "                all_state_values.append(si)\n",
    "            if not si[-1]:\n",
    "                si = blackjack.step(0)\n",
    "                all_state_values.append(si)\n",
    "        update_values(all_state_values)\n",
    "    return usable_data, nonusable_data, avg_reward_pe"
   ]
  },
  {
   "cell_type": "code",
   "execution_count": 8,
   "metadata": {},
   "outputs": [
    {
     "name": "stderr",
     "output_type": "stream",
     "text": [
      "100%|██████████████████████████████████████████████████████████████████████████| 10000/10000 [00:04<00:00, 2450.37it/s]\n"
     ]
    }
   ],
   "source": [
    "################################### CASE 1 ###########################################################\n",
    "usable_results_1, nonusable_results_1, avg_reward_pe_1 = mc_policy_eval(10000)\n",
    "\n",
    "# update matrix for usable with policy evaluation results for 10000 episodes\n",
    "with np.errstate(divide='ignore', invalid='ignore'):\n",
    "    usable_data = np.divide(usable_results_1[:,:,0],usable_results_1[:,:,1])\n",
    "    nonusable_data = np.divide(nonusable_results_1[:,:,0],nonusable_results_1[:,:,1])"
   ]
  },
  {
   "cell_type": "code",
   "execution_count": 9,
   "metadata": {
    "scrolled": true
   },
   "outputs": [
    {
     "data": {
      "image/png": "[encoded data removed]",
      "text/plain": [
       "<Figure size 1008x720 with 3 Axes>"
      ]
     },
     "metadata": {
      "needs_background": "light"
     },
     "output_type": "display_data"
    }
   ],
   "source": [
    "# plot heatmap for 10000 episodes\n",
    "fig, ax = plt.subplots(1,2,figsize=(14,10))\n",
    "\n",
    "im1=ax[0].imshow(usable_data, extent=[1,10,21,2],cmap='RdBu')\n",
    "ax[0].set_title(\"Usable Aces, with 10000 episodes\")\n",
    "ax[0].set_xticks(np.arange(1, 11, step=1))\n",
    "ax[0].set_yticks(np.arange(2, 22, step=1))\n",
    "ax[0].set_xlabel(\"Dealer showing\")\n",
    "ax[0].set_ylabel(\"Sum of cards for player\")\n",
    "\n",
    "fig.colorbar(im1)\n",
    "\n",
    "im2=ax[1].imshow(nonusable_data, extent=[1,10,21,2],cmap='RdBu')\n",
    "ax[1].set_title(\"Non-Usable Aces, with 10000 episodes\")\n",
    "ax[1].set_xticks(np.arange(1, 11, step=1))\n",
    "ax[1].set_yticks(np.arange(2, 22, step=1))\n",
    "ax[1].set_xlabel(\"Dealer showing\")\n",
    "ax[1].set_ylabel(\"Sum of cards for player\")\n",
    "\n",
    "plt.suptitle(\"Expected returns for each state: 10000 episodes\")\n",
    "\n",
    "plt.show()\n"
   ]
  },
  {
   "cell_type": "code",
   "execution_count": 11,
   "metadata": {},
   "outputs": [
    {
     "name": "stderr",
     "output_type": "stream",
     "text": [
      "100%|████████████████████████████████████████████████████████████████████████| 500000/500000 [02:44<00:00, 3032.42it/s]\n"
     ]
    }
   ],
   "source": [
    "################################### CASE 2 ###########################################################\n",
    "usable_results_2, nonusable_results_2, avg_reward_pe_2 = mc_policy_eval(500000)\n",
    "\n",
    "# update matrix for usable with policy evaluation results for 500000 episodes\n",
    "with np.errstate(divide='ignore', invalid='ignore'):\n",
    "    usable_data_case2 = np.divide(usable_results_2[:,:,0],usable_results_2[:,:,1])\n",
    "    nonusable_data_case2 = np.divide(nonusable_results_2[:,:,0],nonusable_results_2[:,:,1])"
   ]
  },
  {
   "cell_type": "code",
   "execution_count": 12,
   "metadata": {},
   "outputs": [
    {
     "data": {
      "image/png": "[encoded data removed]",
      "text/plain": [
       "<Figure size 1008x720 with 3 Axes>"
      ]
     },
     "metadata": {
      "needs_background": "light"
     },
     "output_type": "display_data"
    }
   ],
   "source": [
    "# plot heatmap for 500000 episodes\n",
    "fig, ax = plt.subplots(1,2,figsize=(14,10))\n",
    "\n",
    "im1=ax[0].imshow(usable_data_case2, extent=[1,10,21,2],cmap='RdBu')\n",
    "ax[0].set_title(\"Usable Aces, with 500000 episodes\")\n",
    "ax[0].set_xticks(np.arange(1, 11, step=1))\n",
    "ax[0].set_yticks(np.arange(2, 22, step=1))\n",
    "ax[0].set_xlabel(\"Dealer showing\")\n",
    "ax[0].set_ylabel(\"Sum of cards for player\")\n",
    "\n",
    "fig.colorbar(im1)\n",
    "\n",
    "im2=ax[1].imshow(nonusable_data_case2, extent=[1,10,21,2],cmap='RdBu')\n",
    "ax[1].set_title(\"Non-Usable Aces, with 500000 episodes\")\n",
    "ax[1].set_xticks(np.arange(1, 11, step=1))\n",
    "ax[1].set_yticks(np.arange(2, 22, step=1))\n",
    "ax[1].set_xlabel(\"Dealer showing\")\n",
    "ax[1].set_ylabel(\"Sum of cards for player\")\n",
    "\n",
    "plt.suptitle(\"Expected returns for each state: 500000 episodes\")\n",
    "\n",
    "plt.show()\n"
   ]
  },
  {
   "cell_type": "markdown",
   "metadata": {},
   "source": [
    "**Part (b)**"
   ]
  },
  {
   "cell_type": "code",
   "execution_count": 22,
   "metadata": {
    "scrolled": false
   },
   "outputs": [
    {
     "data": {
      "image/png": "[encoded data removed]",
      "text/plain": [
       "<Figure size 1008x504 with 2 Axes>"
      ]
     },
     "metadata": {
      "needs_background": "light"
     },
     "output_type": "display_data"
    }
   ],
   "source": [
    "cumul_average_r1 = np.cumsum(avg_reward_pe_1)/np.arange(1, len(avg_reward_pe_1)+1)\n",
    "cumul_average_r2 = np.cumsum(avg_reward_pe_2)/np.arange(1, len(avg_reward_pe_2)+1)\n",
    "\n",
    "fig, ax = plt.subplots(1,2,figsize=(14,7))\n",
    "\n",
    "ax[0].plot(range(10000), cumul_average_r1)\n",
    "ax[0].set_xlabel(\"number of episodes\")\n",
    "ax[0].set_ylabel(\"average reward per episode\")\n",
    "ax[0].set_title(\"overall average reward per episode vs number of episodes(10000)\")\n",
    "\n",
    "ax[1].plot(range(500000), cumul_average_r2)\n",
    "ax[1].set_xlabel(\"number of episodes\")\n",
    "ax[1].set_ylabel(\"average reward per episode\")\n",
    "ax[1].set_title(\"overall average reward per episode vs number of episodes(500000)\")\n",
    "plt.show()"
   ]
  },
  {
   "cell_type": "code",
   "execution_count": 25,
   "metadata": {},
   "outputs": [
    {
     "name": "stdout",
     "output_type": "stream",
     "text": [
      "The overall average reward for 10000 episodes is:  -0.3509\n"
     ]
    }
   ],
   "source": [
    "print(\"The overall average reward for 10000 episodes is: \",round(cumul_average_r1[-1],4))"
   ]
  },
  {
   "cell_type": "code",
   "execution_count": 26,
   "metadata": {},
   "outputs": [
    {
     "name": "stdout",
     "output_type": "stream",
     "text": [
      "The overall average reward in case of 500000 episodes is:  -0.3541\n"
     ]
    }
   ],
   "source": [
    "print(\"The overall average reward in case of 500000 episodes is: \",round(cumul_average_r2[-1],4))"
   ]
  },
  {
   "cell_type": "markdown",
   "metadata": {},
   "source": [
    "Thus the overall average reward for this policy **with 10000 episodes is -0.3509** while that **with 500000 episodes is -0.3541**."
   ]
  },
  {
   "cell_type": "markdown",
   "metadata": {},
   "source": [
    "## 3\n",
    "\n",
    "### [40 points] Perform Monte Carlo Control\n",
    "\n",
    "**(a)** Using Monte Carlo Control through policy iteration, estimate the optimal policy for playing our modified blackjack game to maximize rewards. \n",
    "\n",
    "In doing this, use the following assumptions:\n",
    "1. Initialize the value function and the state value function to all zeros\n",
    "2. Keep a running tally of the number of times the agent visited each state and chose an action. $N(s_t,a_t)$ is the number of times action $a$ has been selected from state $s$. You'll need this to compute the running average. You can implement an online average as: $\\bar{x}_{t} = \\frac{1}{N}x_t + \\frac{N-1}{N}\\bar{x}_{t-1}$ \n",
    "3. Use an $\\epsilon$-greedy exploration strategy with $\\epsilon_t = \\frac{N_0}{N_0 + N(s_t)}$, where we define $N_0 = 100$. Vary $N_0$ as needed.\n",
    "\n",
    "Show your result by plotting the optimal value function: $V^*(s) = max_a Q^*(s,a)$ and the optimal policy $\\pi^*(s)$. Create plots for these similar to Sutton and Barto, Figure 5.2 in the new draft edition, or 5.5 in the original edition. Your results SHOULD be very similar to the plots in that text. For these plots include:\n",
    "1. When you have a useable ace, plot the state space with the dealer's card on the x-axis, and the player's sum on the y-axis, and use the 'RdBu' matplotlib colormap and `imshow` to plot the value of each state under the policy described above. The domain of your x and y axes should include all possible states (2 to 21 for the player sum, and 1 to 10 for the dealer's visible card).\n",
    "2. Repeat (1) for the states without a usable ace.\n",
    "3. A plot of the optimal policy $\\pi^*(s)$ for the states with a usable ace (this plot could be an imshow plot with binary values).\n",
    "4. A plot of the optimal policy $\\pi^*(s)$ for the states without a usable ace (this plot could be an imshow plot with binary values).\n",
    "\n",
    "**(b)** Show a plot of the overall average reward per episode vs the number of episodes. What is the average reward your control strategy was able to achieve?\n",
    "\n",
    "*Note: convergence of this algorithm is extremely slow. You may need to let this run a few million episodes before the policy starts to converge. You're not expected to get EXACTLY the optimal policy, but it should be visibly close.* "
   ]
  },
  {
   "cell_type": "markdown",
   "metadata": {},
   "source": [
    "**ANSWER**"
   ]
  },
  {
   "cell_type": "code",
   "execution_count": 2,
   "metadata": {},
   "outputs": [],
   "source": [
    "import sys\n",
    "import matplotlib as mpl\n",
    "from collections import defaultdict"
   ]
  },
  {
   "cell_type": "markdown",
   "metadata": {},
   "source": [
    "**Part (a)**"
   ]
  },
  {
   "cell_type": "code",
   "execution_count": 3,
   "metadata": {},
   "outputs": [],
   "source": [
    "class MC_control_eps_greedy():\n",
    "    \n",
    "    \"\"\"This will follow an epsilon-greedy approach for policy update.\n",
    "    \n",
    "    This class will include a policy evaluation and consequent policy improvement methods.\n",
    "    \"\"\"\n",
    "    \n",
    "    def __init__(self):\n",
    "        initial_user = np.zeros(20); initial_user[18:20] = 1\n",
    "        self.policy = np.outer(np.outer(initial_user, np.ones(10)), np.ones(2)).ravel()\n",
    "        self.action_value = np.zeros((400, 2))  \n",
    "        self.action_value_counter = np.zeros((400, 2))\n",
    "        self.policy = np.ones(400)  \n",
    "        self.avg_reward_pe = []\n",
    "        \n",
    "\n",
    "    def policy_evaluation(self):\n",
    "        def update_values(all_state):\n",
    "            total_r = 0\n",
    "            cum_value = 0\n",
    "            for state in all_state[::-1]:\n",
    "                index, value, action = state\n",
    "                cum_value = cum_value+value\n",
    "                self.action_value_counter[index, action] += 1\n",
    "                self.action_value[index, action] += cum_value\n",
    "                total_r = total_r+cum_value\n",
    "                pass\n",
    "            arpe=total_r / len(all_state)\n",
    "            self.avg_reward_pe.append(arpe)\n",
    "            pass\n",
    "        blackjack = Blackjack()\n",
    "        all_states = []\n",
    "        player, dealer, use = blackjack.deal()\n",
    "        s_indicator = (player - 2) * 20 + (dealer - 1) * 2 + use\n",
    "        done = False\n",
    "        stick_ind = np.where(self.policy == 0)[0]\n",
    "        \n",
    "        while True:\n",
    "            if done:\n",
    "                break\n",
    "            if np.isin(s_indicator, stick_ind):\n",
    "                _, reward, done = blackjack.step(0)\n",
    "                all_states.append([s_indicator, reward, 0])\n",
    "                break\n",
    "            (player, dealer, use), reward, done = blackjack.step(1)        \n",
    "            all_states.append([s_indicator, reward, 1])\n",
    "            s_indicator = (player - 2) * 20 + (dealer - 1) * 2 + use\n",
    "        update_values(all_states)\n",
    "        pass\n",
    "\n",
    "    def policy_improvement(self, N0):\n",
    "        # epsilon greedy policy\n",
    "        action_value = np.divide(self.action_value, self.action_value_counter)\n",
    "        Ns = np.sum(self.action_value_counter, axis=1)\n",
    "        eps = N0 / (N0 + Ns)\n",
    "        indicator = np.random.binomial(1, 1 - eps, len(eps))\n",
    "        exploit = indicator * np.argmax(action_value, axis=1)\n",
    "        explore = (1 - indicator) * np.random.randint(0, 2, indicator.shape)\n",
    "        self.policy = exploit + explore\n",
    "\n",
    "    def run(self, n_episodes, N0):\n",
    "        # policy evaluation followed by policy improvement\n",
    "        for _ in trange(n_episodes):\n",
    "            self.policy_evaluation()\n",
    "            self.policy_improvement(N0)\n",
    "        pass"
   ]
  },
  {
   "cell_type": "code",
   "execution_count": 7,
   "metadata": {},
   "outputs": [
    {
     "name": "stderr",
     "output_type": "stream",
     "text": [
      "  0%|                                                                                      | 0/5000000 [00:00<?, ?it/s]C:\\Users\\srish\\AppData\\Local\\Continuum\\anaconda3\\lib\\site-packages\\ipykernel_launcher.py:48: RuntimeWarning: invalid value encountered in true_divide\n",
      "100%|█████████████████████████████████████████████████████████████████████| 5000000/5000000 [1:44:53<00:00, 794.50it/s]\n",
      "C:\\Users\\srish\\AppData\\Local\\Continuum\\anaconda3\\lib\\site-packages\\ipykernel_launcher.py:8: RuntimeWarning: invalid value encountered in true_divide\n",
      "  \n"
     ]
    }
   ],
   "source": [
    "blackjack= Blackjack()\n",
    "# Run for 5000000 episodes\n",
    "n_episodes = 5000000\n",
    "MC_control = MC_control_eps_greedy()\n",
    "MC_control.run(n_episodes, 100)\n",
    "\n",
    "# actions values from Monte Carlo \n",
    "action_value_results = np.divide(MC_control.action_value, MC_control.action_value_counter).reshape(20, 10, 2, 2)\n",
    "action_value_results = np.max(action_value_results, axis=3)\n",
    "# results for plotting\n",
    "usable_data = action_value_results[:, :, 1]\n",
    "nonusable_data = action_value_results[:, :, 0]"
   ]
  },
  {
   "cell_type": "code",
   "execution_count": 10,
   "metadata": {},
   "outputs": [
    {
     "data": {
      "image/png": "[encoded data removed]",
      "text/plain": [
       "<Figure size 1008x720 with 3 Axes>"
      ]
     },
     "metadata": {
      "needs_background": "light"
     },
     "output_type": "display_data"
    }
   ],
   "source": [
    "# plot heatmap for 50000000 episodes\n",
    "fig, ax = plt.subplots(1,2,figsize=(14,10))\n",
    "\n",
    "im1=ax[0].imshow(usable_data, extent=[1,10,21,2],cmap='RdBu')\n",
    "ax[0].set_title(\"Usable Aces, with 50000000 episodes\")\n",
    "ax[0].set_xticks(np.arange(1, 11, step=1))\n",
    "ax[0].set_yticks(np.arange(2, 22, step=1))\n",
    "ax[0].set_xlabel(\"Dealer showing\")\n",
    "ax[0].set_ylabel(\"Sum of cards for player\")\n",
    "\n",
    "fig.colorbar(im1)\n",
    "\n",
    "im2=ax[1].imshow(nonusable_data, extent=[1,10,21,2],cmap='RdBu')\n",
    "ax[1].set_title(\"Non-Usable Aces, with 50000000 episodes\")\n",
    "ax[1].set_xticks(np.arange(1, 11, step=1))\n",
    "ax[1].set_yticks(np.arange(2, 22, step=1))\n",
    "ax[1].set_xlabel(\"Dealer showing\")\n",
    "ax[1].set_ylabel(\"Sum of cards for player\")\n",
    "\n",
    "plt.suptitle(\"Expected returns for each state: 50000000 episodes\")\n",
    "\n",
    "plt.show()"
   ]
  },
  {
   "cell_type": "code",
   "execution_count": 13,
   "metadata": {},
   "outputs": [
    {
     "data": {
      "image/png": "[encoded data removed]",
      "text/plain": [
       "<Figure size 1008x720 with 3 Axes>"
      ]
     },
     "metadata": {
      "needs_background": "light"
     },
     "output_type": "display_data"
    }
   ],
   "source": [
    "# plot binary heatmap for 50000000 episodes\n",
    "fig, ax = plt.subplots(1,2,figsize=(14,10))\n",
    "binary_colormap=mpl.colors.ListedColormap(['red', 'blue'])\n",
    "\n",
    "im3=ax[0].imshow(np.flip(MC_control.policy.reshape(20, 10, 2)[:, :, 1], 0), \n",
    "                 extent=[1,10,21,2],cmap=binary_colormap,alpha=0.7)\n",
    "ax[0].set_title(\"Binary Plot for Usable Aces, with 50000000 episodes\")\n",
    "ax[0].set_xticks(np.arange(1, 11, step=1))\n",
    "ax[0].set_yticks(np.arange(2, 22, step=1))\n",
    "ax[0].set_xlabel(\"Dealer showing\")\n",
    "ax[0].set_ylabel(\"Sum of cards for player\")\n",
    "\n",
    "\n",
    "im4=ax[1].imshow(np.flip(MC_control.policy.reshape(20, 10, 2)[:, :, 0], 0), \n",
    "                 extent=[1,10,21,2],cmap=binary_colormap,alpha=0.7)\n",
    "ax[1].set_title(\"Binary Plot for Non-Usable Aces, with 50000000 episodes\")\n",
    "ax[1].set_xticks(np.arange(1, 11, step=1))\n",
    "ax[1].set_yticks(np.arange(2, 22, step=1))\n",
    "ax[1].set_xlabel(\"Dealer showing\")\n",
    "ax[1].set_ylabel(\"Sum of cards for player\")\n",
    "\n",
    "plt.suptitle(\"Expected returns for each state: 50000000 episodes on Binary Map\")\n",
    "\n",
    "cbar = fig.colorbar(im3,ticks=[0, 1])\n",
    "cbar.ax.set_yticklabels(['sticks', 'hits'])\n",
    "\n",
    "plt.show()"
   ]
  },
  {
   "cell_type": "markdown",
   "metadata": {},
   "source": [
    "**Part (b)**"
   ]
  },
  {
   "cell_type": "code",
   "execution_count": 15,
   "metadata": {},
   "outputs": [
    {
     "data": {
      "image/png": "[encoded data removed]",
      "text/plain": [
       "<Figure size 432x288 with 1 Axes>"
      ]
     },
     "metadata": {
      "needs_background": "light"
     },
     "output_type": "display_data"
    }
   ],
   "source": [
    "cumul_average_r3 = np.cumsum(MC_control.avg_reward_pe)/np.arange(1, len(MC_control.avg_reward_pe)+1)\n",
    "plt.plot(range(n_episodes), cumul_average_r3)\n",
    "plt.xlabel(\"number of episodes\")\n",
    "plt.ylabel(\"average reward per episode\")\n",
    "plt.title(\"overall average reward per episode vs number of episodes for Monte Carlo Control\")\n",
    "plt.show()"
   ]
  },
  {
   "cell_type": "code",
   "execution_count": 16,
   "metadata": {},
   "outputs": [
    {
     "name": "stdout",
     "output_type": "stream",
     "text": [
      "The overall average reward for Monte Carlo Method with 5000000 episodes is:  -0.0649\n"
     ]
    }
   ],
   "source": [
    "print(\"The overall average reward for Monte Carlo Method with 5000000 episodes is: \",round(cumul_average_r3[-1],4))"
   ]
  },
  {
   "cell_type": "markdown",
   "metadata": {},
   "source": [
    "## 4\n",
    "\n",
    "### [10 points] Discuss your findings\n",
    "\n",
    "Compare the performance of your human control policy, the naive policy from question 2, and the optimal control policy in question 3. \n",
    "**(a)** Which performs best? Why is this the case? \n",
    "**(b)** Could you have created a better policy if you knew the full Markov Decision Process for this environment? Why or why not?"
   ]
  },
  {
   "cell_type": "markdown",
   "metadata": {},
   "source": [
    "**ANSWER**"
   ]
  },
  {
   "cell_type": "markdown",
   "metadata": {},
   "source": [
    "**Part (a)**\n",
    "\n",
    "The optimal control policy performs the best across all the above 3 cases. Since my naive policy simply hit when the player sum meets a certain threshold criterion, it doesn't account for the most optimal strategy or the card in the dealer's showing. On the other hand, the optimal control policy can learn about which exact situations are best to hit or stick by taking into account the dealer's visible card. Although the optimal control policy still requires the certain threshold criterion, it also takes into account other states which are not advisable to hit, based on the dealer's hand. \n",
    "\n",
    "**Part (b)**\n",
    "\n",
    "In my opinion we still could not have formed a better policy that our optimal control policy even if we knew the full Markov Decision Process. This is because in this program of simulating Blackjack games for each episode, we can explore/simulate starts with all possibilities thus including all possible action-state values. Thus the MC exploration above would have already found out the complete information to get to the best control policy. Knowing the complete Markov Decision Process (MDP) would not add any additional information that hasn't been explored by simulating multiple situations. Since we have followed an epsilon-greedy policy update mechanism, we have reached an optimal policy. We have achieved stability using the above MC strategy as it converged once it found the optimal policy and value function. I believe we could not create a better process with the complete MDP."
   ]
  }
 ],
 "metadata": {
  "kernelspec": {
   "display_name": "Python 3",
   "language": "python",
   "name": "python3"
  },
  "language_info": {
   "codemirror_mode": {
    "name": "ipython",
    "version": 3
   },
   "file_extension": ".py",
   "mimetype": "text/x-python",
   "name": "python",
   "nbconvert_exporter": "python",
   "pygments_lexer": "ipython3",
   "version": "3.7.3"
  },
  "varInspector": {
   "cols": {
    "lenName": 16,
    "lenType": 16,
    "lenVar": 40
   },
   "kernels_config": {
    "python": {
     "delete_cmd_postfix": "",
     "delete_cmd_prefix": "del ",
     "library": "var_list.py",
     "varRefreshCmd": "print(var_dic_list())"
    },
    "r": {
     "delete_cmd_postfix": ") ",
     "delete_cmd_prefix": "rm(",
     "library": "var_list.r",
     "varRefreshCmd": "cat(var_dic_list()) "
    }
   },
   "types_to_exclude": [
    "module",
    "function",
    "builtin_function_or_method",
    "instance",
    "_Feature"
   ],
   "window_display": false
  }
 },
 "nbformat": 4,
 "nbformat_minor": 2
}
